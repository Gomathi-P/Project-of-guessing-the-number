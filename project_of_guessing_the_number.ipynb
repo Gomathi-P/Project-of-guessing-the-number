{
  "nbformat": 4,
  "nbformat_minor": 0,
  "metadata": {
    "colab": {
      "name": "project of guessing the number.ipynb",
      "provenance": [],
      "collapsed_sections": [],
      "authorship_tag": "ABX9TyMlHhuoUN9T9ISxs6hJ7fcY",
      "include_colab_link": true
    },
    "kernelspec": {
      "name": "python3",
      "display_name": "Python 3"
    }
  },
  "cells": [
    {
      "cell_type": "markdown",
      "metadata": {
        "id": "view-in-github",
        "colab_type": "text"
      },
      "source": [
        "<a href=\"https://colab.research.google.com/github/Gomathi-P/Project-of-guessing-the-number/blob/master/project_of_guessing_the_number.ipynb\" target=\"_parent\"><img src=\"https://colab.research.google.com/assets/colab-badge.svg\" alt=\"Open In Colab\"/></a>"
      ]
    },
    {
      "cell_type": "markdown",
      "metadata": {
        "id": "89ti7d5KvPf7",
        "colab_type": "text"
      },
      "source": [
        "Project of guessing the number"
      ]
    },
    {
      "cell_type": "code",
      "metadata": {
        "id": "Ulc6WbwhvJSr",
        "colab_type": "code",
        "colab": {
          "base_uri": "https://localhost:8080/",
          "height": 289
        },
        "outputId": "86c55658-0878-45a4-dc9e-77afc6c02909"
      },
      "source": [
        "import random\n",
        "a=0\n",
        "n=random.randint(1,20)\n",
        "while a<4:\n",
        "   print(\"Guess a number between 1 to 20\")\n",
        "   guess=int(input())\n",
        "   print(guess)\n",
        "   a=a+1\n",
        "   if guess<n:\n",
        "     print(\"Your guess is too low\")\n",
        "   if guess>n:\n",
        "     print(\"Your guess is too large\")\n",
        "   if guess==n:\n",
        "     break\n",
        "if guess==n:\n",
        "    a=str(a)\n",
        "    print(\"You guessed correctly\")\n",
        "if guess!=n:\n",
        "    n=str(n)\n",
        "    print(\"Try again\")"
      ],
      "execution_count": null,
      "outputs": [
        {
          "output_type": "stream",
          "text": [
            "Guess a number between 1 to 20\n",
            "5\n",
            "5\n",
            "Your guess is too low\n",
            "Guess a number between 1 to 20\n",
            "15\n",
            "15\n",
            "Your guess is too large\n",
            "Guess a number between 1 to 20\n",
            "10\n",
            "10\n",
            "Your guess is too large\n",
            "Guess a number between 1 to 20\n",
            "8\n",
            "8\n",
            "You guessed correctly\n"
          ],
          "name": "stdout"
        }
      ]
    }
  ]
}